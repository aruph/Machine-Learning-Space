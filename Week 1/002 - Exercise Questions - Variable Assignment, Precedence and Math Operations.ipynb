{
 "cells": [
  {
   "cell_type": "markdown",
   "metadata": {},
   "source": [
    "# 1. What will this code generate?"
   ]
  },
  {
   "cell_type": "code",
   "execution_count": 1,
   "metadata": {},
   "outputs": [
    {
     "data": {
      "text/plain": [
       "15"
      ]
     },
     "execution_count": 1,
     "metadata": {},
     "output_type": "execute_result"
    }
   ],
   "source": [
    "x = 10\n",
    "x = 20\n",
    "x = 15\n",
    "\n",
    "x #should generate the most updated value of x -> 15"
   ]
  },
  {
   "cell_type": "code",
   "execution_count": 2,
   "metadata": {},
   "outputs": [
    {
     "data": {
      "text/plain": [
       "int"
      ]
     },
     "execution_count": 2,
     "metadata": {},
     "output_type": "execute_result"
    }
   ],
   "source": [
    "type (x) #should return type of x as int"
   ]
  },
  {
   "cell_type": "code",
   "execution_count": 3,
   "metadata": {},
   "outputs": [
    {
     "ename": "NameError",
     "evalue": "name 'y' is not defined",
     "output_type": "error",
     "traceback": [
      "\u001b[1;31m---------------------------------------------------------------------------\u001b[0m",
      "\u001b[1;31mNameError\u001b[0m                                 Traceback (most recent call last)",
      "\u001b[1;32m<ipython-input-3-2adc25eced31>\u001b[0m in \u001b[0;36m<module>\u001b[1;34m\u001b[0m\n\u001b[1;32m----> 1\u001b[1;33m \u001b[0mz\u001b[0m \u001b[1;33m=\u001b[0m \u001b[0mx\u001b[0m\u001b[1;33m/\u001b[0m\u001b[0my\u001b[0m\u001b[1;33m\u001b[0m\u001b[1;33m\u001b[0m\u001b[0m\n\u001b[0m\u001b[0;32m      2\u001b[0m \u001b[1;33m\u001b[0m\u001b[0m\n\u001b[0;32m      3\u001b[0m \u001b[0mz\u001b[0m \u001b[1;31m#should return a error since y is undefined\u001b[0m\u001b[1;33m\u001b[0m\u001b[1;33m\u001b[0m\u001b[0m\n",
      "\u001b[1;31mNameError\u001b[0m: name 'y' is not defined"
     ]
    }
   ],
   "source": [
    "z = x/y\n",
    "\n",
    "z #should return a error since y is undefined "
   ]
  },
  {
   "cell_type": "code",
   "execution_count": 4,
   "metadata": {},
   "outputs": [
    {
     "ename": "NameError",
     "evalue": "name 'z' is not defined",
     "output_type": "error",
     "traceback": [
      "\u001b[1;31m---------------------------------------------------------------------------\u001b[0m",
      "\u001b[1;31mNameError\u001b[0m                                 Traceback (most recent call last)",
      "\u001b[1;32m<ipython-input-4-fa88f47f736f>\u001b[0m in \u001b[0;36m<module>\u001b[1;34m\u001b[0m\n\u001b[1;32m----> 1\u001b[1;33m \u001b[0mtype\u001b[0m \u001b[1;33m(\u001b[0m\u001b[0mz\u001b[0m\u001b[1;33m)\u001b[0m \u001b[1;31m#should return an error\u001b[0m\u001b[1;33m\u001b[0m\u001b[1;33m\u001b[0m\u001b[0m\n\u001b[0m",
      "\u001b[1;31mNameError\u001b[0m: name 'z' is not defined"
     ]
    }
   ],
   "source": [
    "type (z) #should return an error"
   ]
  },
  {
   "cell_type": "markdown",
   "metadata": {},
   "source": [
    "# 2. WRITE A CODE THAT CALCULATES THE AREA AND PERIMETER OF A RECTANGE (ASSUME ANY VALUES FOR LENGTH AND WIDTH) \n",
    "\n",
    "<img src = \"Images for reference purposes/Assignment - Retange Image.png\">"
   ]
  },
  {
   "cell_type": "code",
   "execution_count": 6,
   "metadata": {},
   "outputs": [
    {
     "name": "stdout",
     "output_type": "stream",
     "text": [
      "Enter the length of the rectangle: 25\n",
      "Enter the breadth of the rectangle: 14\n",
      "Area and perimeter of the rectangle is 350 and 78,respectively.\n"
     ]
    }
   ],
   "source": [
    "length = int(input(\"Enter the length of the rectangle: \"))\n",
    "breadth = int(input(\"Enter the breadth of the rectangle: \"))\n",
    "print(\"Area and perimeter of the rectangle is {} and {},respectively.\".format(length*breadth, 2*(length+breadth)))"
   ]
  },
  {
   "cell_type": "markdown",
   "metadata": {},
   "source": [
    "# 3. WHAT WILL THIS CODE GENERATE?"
   ]
  },
  {
   "cell_type": "code",
   "execution_count": 11,
   "metadata": {},
   "outputs": [
    {
     "name": "stdout",
     "output_type": "stream",
     "text": [
      "Result = 7.5\n"
     ]
    }
   ],
   "source": [
    "x = 25\n",
    "y = 20\n",
    "z = 3\n",
    "f = 2\n",
    "\n",
    "result = (x - y) * z / f       \n",
    "print (\"Result =\", result) #should output a decimal quotient value 7.5. First computes paranthesis -> multiplication followed by division"
   ]
  },
  {
   "cell_type": "code",
   "execution_count": 12,
   "metadata": {},
   "outputs": [
    {
     "name": "stdout",
     "output_type": "stream",
     "text": [
      "Result = 7.5\n"
     ]
    }
   ],
   "source": [
    "e = ((x - y) * z) / f    \n",
    "print(\"Result =\",  ans) #another way of computing the above mathematical operation"
   ]
  },
  {
   "cell_type": "code",
   "execution_count": 13,
   "metadata": {},
   "outputs": [
    {
     "name": "stdout",
     "output_type": "stream",
     "text": [
      "Result = 7.5\n"
     ]
    }
   ],
   "source": [
    "e = (x - y) * (z / f);    \n",
    "print(\"Result =\",  ans)"
   ]
  },
  {
   "cell_type": "markdown",
   "metadata": {},
   "source": [
    "# 4. WRITE TO CODE TO TEST IF A NUMBER IS EVEN OR ODD"
   ]
  },
  {
   "cell_type": "code",
   "execution_count": 19,
   "metadata": {},
   "outputs": [
    {
     "name": "stdout",
     "output_type": "stream",
     "text": [
      "Enter any digit under x: 53\n",
      "Enter any digit under y: 26\n",
      "53 is an odd number\n",
      "26 is an even number\n"
     ]
    }
   ],
   "source": [
    "x = int(input(\"Enter any digit under x: \"))\n",
    "y = int(input(\"Enter any digit under y: \"))\n",
    "\n",
    "if x%2 == 0:\n",
    "    print (\"{} is an even number\".format(x))\n",
    "else:\n",
    "    print (\"{} is an odd number\".format(x))\n",
    "    \n",
    "#Another way of writing if-else case\n",
    "print (\"{} is an even number\".format(y)) if y%2 == 0 else print (\"{} is an odd number\".format(y))"
   ]
  },
  {
   "cell_type": "markdown",
   "metadata": {},
   "source": [
    "# 5. WRITE A CODE THAT TAKES A NUMBER, SQUARE IT AND THEN TAKE THE RESULT AND GET THE SQUARE ROOT (SO YOU END UP WITH THE ORIGINAL VALUE!)"
   ]
  },
  {
   "cell_type": "code",
   "execution_count": 22,
   "metadata": {},
   "outputs": [
    {
     "name": "stdout",
     "output_type": "stream",
     "text": [
      "Enter any digit: 5\n",
      "Square of 5 is: 25\n",
      "Square root of 25 is: 5\n"
     ]
    }
   ],
   "source": [
    "x = int(input(\"Enter any digit: \"))\n",
    "number_for_squareRoot = x**2\n",
    "print (\"Square of\",x,\"is:\",number_for_squareRoot)\n",
    "import math\n",
    "print (\"Square root of\",number_for_squareRoot,\"is:\",int(math.sqrt(number_for_squareRoot))) #math.sqrt() produces a float"
   ]
  },
  {
   "cell_type": "markdown",
   "metadata": {},
   "source": [
    "# 6. WRITE A CODE THAT TAKES A DIMENSION OF A CUBE AND OBTAIN ITS AREA AND VOLUME\n",
    "\n",
    "<img src=\"Images for reference purposes/Assignment - Cube Image.png\">"
   ]
  },
  {
   "cell_type": "code",
   "execution_count": 23,
   "metadata": {},
   "outputs": [
    {
     "name": "stdout",
     "output_type": "stream",
     "text": [
      "Enter the length of side of a cube: 4\n",
      "Area of cube based on length of side 4 is 96 and volume is 64\n"
     ]
    }
   ],
   "source": [
    "side = int(input(\"Enter the length of side of a cube: \"))\n",
    "print (\"Area of cube based on length of side {} is {}\".format(side, 6*side**2),\"and volume is\",side**3)"
   ]
  },
  {
   "cell_type": "markdown",
   "metadata": {},
   "source": [
    "# 7. WRITE A CODE THAT TAKES A NUMBER AND INCREMENTS IT 3 TIMES"
   ]
  },
  {
   "cell_type": "code",
   "execution_count": 29,
   "metadata": {},
   "outputs": [
    {
     "name": "stdout",
     "output_type": "stream",
     "text": [
      "Enter any digit: 7\n"
     ]
    },
    {
     "data": {
      "text/plain": [
       "10"
      ]
     },
     "execution_count": 29,
     "metadata": {},
     "output_type": "execute_result"
    }
   ],
   "source": [
    "number = int(input(\"Enter any digit: \"))\n",
    "number+=3\n",
    "number"
   ]
  },
  {
   "cell_type": "markdown",
   "metadata": {},
   "source": [
    "# 8. WHAT WENT WRONG? ADD LINES OF CODE SO THAT Z BECOMES EQUAL 55"
   ]
  },
  {
   "cell_type": "code",
   "execution_count": 30,
   "metadata": {},
   "outputs": [
    {
     "ename": "NameError",
     "evalue": "name 's' is not defined",
     "output_type": "error",
     "traceback": [
      "\u001b[1;31m---------------------------------------------------------------------------\u001b[0m",
      "\u001b[1;31mNameError\u001b[0m                                 Traceback (most recent call last)",
      "\u001b[1;32m<ipython-input-30-738ec72f01b1>\u001b[0m in \u001b[0;36m<module>\u001b[1;34m\u001b[0m\n\u001b[0;32m      2\u001b[0m \u001b[0my\u001b[0m \u001b[1;33m=\u001b[0m \u001b[1;36m30\u001b[0m\u001b[1;33m\u001b[0m\u001b[1;33m\u001b[0m\u001b[0m\n\u001b[0;32m      3\u001b[0m \u001b[1;33m\u001b[0m\u001b[0m\n\u001b[1;32m----> 4\u001b[1;33m \u001b[0mz\u001b[0m \u001b[1;33m=\u001b[0m \u001b[0mx\u001b[0m \u001b[1;33m+\u001b[0m \u001b[0my\u001b[0m \u001b[1;33m+\u001b[0m \u001b[0ms\u001b[0m\u001b[1;33m\u001b[0m\u001b[1;33m\u001b[0m\u001b[0m\n\u001b[0m",
      "\u001b[1;31mNameError\u001b[0m: name 's' is not defined"
     ]
    }
   ],
   "source": [
    "x = 20\n",
    "y = 30\n",
    "\n",
    "z = x + y + s"
   ]
  },
  {
   "cell_type": "code",
   "execution_count": 32,
   "metadata": {},
   "outputs": [
    {
     "data": {
      "text/plain": [
       "55"
      ]
     },
     "execution_count": 32,
     "metadata": {},
     "output_type": "execute_result"
    }
   ],
   "source": [
    "x = 20\n",
    "y = 30\n",
    "s = 5\n",
    "z = x + y + s\n",
    "z"
   ]
  },
  {
   "cell_type": "markdown",
   "metadata": {},
   "source": [
    "# 9. WRITE A CODE THAT PERFORMS THE FOLLOWING MATHEMATICAL OPERATION\n",
    "z = |x − y| *  (x + y)"
   ]
  },
  {
   "cell_type": "code",
   "execution_count": 33,
   "metadata": {},
   "outputs": [
    {
     "data": {
      "text/plain": [
       "8000"
      ]
     },
     "execution_count": 33,
     "metadata": {},
     "output_type": "execute_result"
    }
   ],
   "source": [
    "x = 10\n",
    "y = 90\n",
    "z = abs(x - y)*(x + y)\n",
    "z"
   ]
  },
  {
   "cell_type": "markdown",
   "metadata": {},
   "source": [
    "#  10. WHICH ONE OF THE FOLLOWING SHOULD BE ELIMINATED TO EXECUTE THE CODE SUCCESSFULLY? \n",
    "- Comment the line(s) that causes the error \n",
    "- AND remove the variable from the print command"
   ]
  },
  {
   "cell_type": "code",
   "execution_count": 34,
   "metadata": {},
   "outputs": [
    {
     "ename": "SyntaxError",
     "evalue": "invalid syntax (<ipython-input-34-62408ada5733>, line 3)",
     "output_type": "error",
     "traceback": [
      "\u001b[1;36m  File \u001b[1;32m\"<ipython-input-34-62408ada5733>\"\u001b[1;36m, line \u001b[1;32m3\u001b[0m\n\u001b[1;33m    for = 10 #will produce an error as for is a reserved keyword\u001b[0m\n\u001b[1;37m        ^\u001b[0m\n\u001b[1;31mSyntaxError\u001b[0m\u001b[1;31m:\u001b[0m invalid syntax\n"
     ]
    }
   ],
   "source": [
    "salary = 20\n",
    "Salary = 25\n",
    "for = 10 #will produce an error as for is a reserved keyword\n",
    "saLary = 12\n",
    "SALARY = 13\n",
    "s_a_l_a_r_y = 15\n",
    "2SALARY = 30 #variable names cannot start with a digit\n",
    "_salary = 30\n",
    "True = 20 #will produce an error as True is a reserved keyword\n",
    "salary_ = 33\n",
    "_SALARY_ = 36\n",
    "\n",
    "print(salary, Salary, for, saLary, SALARY, s_a_l_a_r_y, 2SALARY, _salary, True, salary_, _SALARY_)"
   ]
  },
  {
   "cell_type": "code",
   "execution_count": 35,
   "metadata": {},
   "outputs": [
    {
     "name": "stdout",
     "output_type": "stream",
     "text": [
      "20 25 12 13 15 30 33 36\n"
     ]
    }
   ],
   "source": [
    "salary = 20\n",
    "Salary = 25\n",
    "#for = 10 #will produce an error as for is a reserved keyword\n",
    "saLary = 12\n",
    "SALARY = 13\n",
    "s_a_l_a_r_y = 15\n",
    "#2SALARY = 30 #variable names cannot start with a digit\n",
    "_salary = 30\n",
    "#True = 20 #will produce an error as True is a reserved keyword\n",
    "salary_ = 33\n",
    "_SALARY_ = 36\n",
    "\n",
    "print(salary, Salary, saLary, SALARY, s_a_l_a_r_y, _salary, salary_, _SALARY_)"
   ]
  },
  {
   "cell_type": "markdown",
   "metadata": {},
   "source": [
    "# 11. WRITE A CODE THAT TAKES CELSIUS TEMPERATURE AND CONVERT IT TO FAHRENHEIT\n",
    "\n",
    "<ing src=\"Images for reference purposes/Assignment - Temperature Graph.png\">\n",
    "\n",
    "# F = 9/5*C+32"
   ]
  },
  {
   "cell_type": "code",
   "execution_count": 37,
   "metadata": {},
   "outputs": [
    {
     "name": "stdout",
     "output_type": "stream",
     "text": [
      "Enter any number for temperature in celcius: 28.9\n"
     ]
    },
    {
     "data": {
      "text/plain": [
       "84.02"
      ]
     },
     "execution_count": 37,
     "metadata": {},
     "output_type": "execute_result"
    }
   ],
   "source": [
    "celcius = float(input(\"Enter any number for temperature in celcius: \"))\n",
    "equivalent_fahrenheit = 9/5*celcius+32\n",
    "equivalent_fahrenheit"
   ]
  },
  {
   "cell_type": "markdown",
   "metadata": {},
   "source": [
    "# 12. WRITE A CODE THAT CONVERTS FROM KM/H INTO MILES PER HOUR (REFER TO THE EQUATION BELOW)\n",
    "\n",
    "<img src = \"Images for reference purposes/Assignment - Speedometer Image.png\">\n",
    "\n",
    "MPH = 0.6214 * KMH"
   ]
  },
  {
   "cell_type": "code",
   "execution_count": 38,
   "metadata": {},
   "outputs": [
    {
     "name": "stdout",
     "output_type": "stream",
     "text": [
      "Enter any number for spped in kmph: 52.90\n"
     ]
    },
    {
     "data": {
      "text/plain": [
       "32.87206"
      ]
     },
     "execution_count": 38,
     "metadata": {},
     "output_type": "execute_result"
    }
   ],
   "source": [
    "kmph = float(input(\"Enter any number for spped in kmph: \"))\n",
    "mph = 0.6214 * kmph\n",
    "mph"
   ]
  },
  {
   "cell_type": "markdown",
   "metadata": {},
   "source": [
    "# NOW YOU SHOULD BE FAMILIAR WITH VARIABLES, VARIABLE ASSIGNMENTS, PRECEDENCE AND BASIC MATHEMATICAL OPERATIONS, GREAT JOB!"
   ]
  }
 ],
 "metadata": {
  "kernelspec": {
   "display_name": "Python 3",
   "language": "python",
   "name": "python3"
  },
  "language_info": {
   "codemirror_mode": {
    "name": "ipython",
    "version": 3
   },
   "file_extension": ".py",
   "mimetype": "text/x-python",
   "name": "python",
   "nbconvert_exporter": "python",
   "pygments_lexer": "ipython3",
   "version": "3.7.6"
  }
 },
 "nbformat": 4,
 "nbformat_minor": 4
}
